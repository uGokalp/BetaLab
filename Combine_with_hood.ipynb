{
 "cells": [
  {
   "cell_type": "code",
   "execution_count": 1,
   "metadata": {},
   "outputs": [],
   "source": [
    "import postgis\n",
    "import psycopg2\n",
    "from postgis.psycopg import register\n",
    "import pandas as pd\n",
    "import numpy as np\n",
    "from tqdm import tqdm\n",
    "from geopy.geocoders import Nominatim"
   ]
  },
  {
   "cell_type": "code",
   "execution_count": 2,
   "metadata": {},
   "outputs": [],
   "source": [
    "df = pd.read_csv(\"train_100k.csv\")"
   ]
  },
  {
   "cell_type": "code",
   "execution_count": 3,
   "metadata": {},
   "outputs": [],
   "source": [
    "\n",
    "conn = psycopg2.connect(dbname=\"umur\", user=\"umur\", password=\"umurssexygeodb\", host=\"morpheus.hisarschool.k12.tr\")\n",
    "register(conn)\n"
   ]
  },
  {
   "cell_type": "code",
   "execution_count": 4,
   "metadata": {},
   "outputs": [],
   "source": [
    "def get_neighbour(connection, lat, lon):\n",
    "    cursor = conn.cursor()\n",
    "    cursor.execute('SELECT neighborhood, wkb_geometry FROM umurtable WHERE ST_Contains(wkb_geometry, ST_SetSRID(ST_MakePoint({lon}, {lat}), 4326))'.format(lon=lon, lat=lat))\n",
    "    conn.commit()\n",
    "    return cursor.fetchone()[0]"
   ]
  },
  {
   "cell_type": "code",
   "execution_count": 5,
   "metadata": {},
   "outputs": [],
   "source": [
    "def get_borough(connection, lat, lon):\n",
    "    cursor = conn.cursor()\n",
    "    cursor.execute('SELECT borough, wkb_geometry FROM umurtable WHERE ST_Contains(wkb_geometry, ST_SetSRID(ST_MakePoint({lon}, {lat}), 4326))'.format(lon=lon, lat=lat))\n",
    "    conn.commit()\n",
    "    return cursor.fetchone()[0]"
   ]
  },
  {
   "cell_type": "code",
   "execution_count": 6,
   "metadata": {},
   "outputs": [
    {
     "data": {
      "text/html": [
       "<div>\n",
       "<style scoped>\n",
       "    .dataframe tbody tr th:only-of-type {\n",
       "        vertical-align: middle;\n",
       "    }\n",
       "\n",
       "    .dataframe tbody tr th {\n",
       "        vertical-align: top;\n",
       "    }\n",
       "\n",
       "    .dataframe thead th {\n",
       "        text-align: right;\n",
       "    }\n",
       "</style>\n",
       "<table border=\"1\" class=\"dataframe\">\n",
       "  <thead>\n",
       "    <tr style=\"text-align: right;\">\n",
       "      <th></th>\n",
       "      <th>Unnamed: 0</th>\n",
       "      <th>key</th>\n",
       "      <th>fare_amount</th>\n",
       "      <th>pickup_datetime</th>\n",
       "      <th>pickup_longitude</th>\n",
       "      <th>pickup_latitude</th>\n",
       "      <th>dropoff_longitude</th>\n",
       "      <th>dropoff_latitude</th>\n",
       "      <th>passenger_count</th>\n",
       "    </tr>\n",
       "  </thead>\n",
       "  <tbody>\n",
       "    <tr>\n",
       "      <th>0</th>\n",
       "      <td>0</td>\n",
       "      <td>2009-09-26 10:00:00.00000061</td>\n",
       "      <td>17.3</td>\n",
       "      <td>2009-09-26 10:00:00 UTC</td>\n",
       "      <td>-73.992270</td>\n",
       "      <td>40.694707</td>\n",
       "      <td>-73.978580</td>\n",
       "      <td>40.753823</td>\n",
       "      <td>6</td>\n",
       "    </tr>\n",
       "    <tr>\n",
       "      <th>1</th>\n",
       "      <td>1</td>\n",
       "      <td>2013-05-30 23:19:00.000000198</td>\n",
       "      <td>7.0</td>\n",
       "      <td>2013-05-30 23:19:00 UTC</td>\n",
       "      <td>-73.974095</td>\n",
       "      <td>40.783962</td>\n",
       "      <td>-73.951655</td>\n",
       "      <td>40.771982</td>\n",
       "      <td>5</td>\n",
       "    </tr>\n",
       "    <tr>\n",
       "      <th>2</th>\n",
       "      <td>2</td>\n",
       "      <td>2009-04-12 18:57:00.000000121</td>\n",
       "      <td>4.1</td>\n",
       "      <td>2009-04-12 18:57:00 UTC</td>\n",
       "      <td>-73.987312</td>\n",
       "      <td>40.768525</td>\n",
       "      <td>-73.989643</td>\n",
       "      <td>40.762507</td>\n",
       "      <td>1</td>\n",
       "    </tr>\n",
       "    <tr>\n",
       "      <th>3</th>\n",
       "      <td>3</td>\n",
       "      <td>2012-03-28 12:05:00.00000034</td>\n",
       "      <td>8.9</td>\n",
       "      <td>2012-03-28 12:05:00 UTC</td>\n",
       "      <td>-74.005063</td>\n",
       "      <td>40.748015</td>\n",
       "      <td>-74.004713</td>\n",
       "      <td>40.725563</td>\n",
       "      <td>4</td>\n",
       "    </tr>\n",
       "    <tr>\n",
       "      <th>4</th>\n",
       "      <td>4</td>\n",
       "      <td>2013-06-22 23:27:47.0000002</td>\n",
       "      <td>9.5</td>\n",
       "      <td>2013-06-22 23:27:47 UTC</td>\n",
       "      <td>-73.978311</td>\n",
       "      <td>40.745573</td>\n",
       "      <td>-73.989952</td>\n",
       "      <td>40.733327</td>\n",
       "      <td>3</td>\n",
       "    </tr>\n",
       "  </tbody>\n",
       "</table>\n",
       "</div>"
      ],
      "text/plain": [
       "   Unnamed: 0                            key  fare_amount  \\\n",
       "0           0   2009-09-26 10:00:00.00000061         17.3   \n",
       "1           1  2013-05-30 23:19:00.000000198          7.0   \n",
       "2           2  2009-04-12 18:57:00.000000121          4.1   \n",
       "3           3   2012-03-28 12:05:00.00000034          8.9   \n",
       "4           4    2013-06-22 23:27:47.0000002          9.5   \n",
       "\n",
       "           pickup_datetime  pickup_longitude  pickup_latitude  \\\n",
       "0  2009-09-26 10:00:00 UTC        -73.992270        40.694707   \n",
       "1  2013-05-30 23:19:00 UTC        -73.974095        40.783962   \n",
       "2  2009-04-12 18:57:00 UTC        -73.987312        40.768525   \n",
       "3  2012-03-28 12:05:00 UTC        -74.005063        40.748015   \n",
       "4  2013-06-22 23:27:47 UTC        -73.978311        40.745573   \n",
       "\n",
       "   dropoff_longitude  dropoff_latitude  passenger_count  \n",
       "0         -73.978580         40.753823                6  \n",
       "1         -73.951655         40.771982                5  \n",
       "2         -73.989643         40.762507                1  \n",
       "3         -74.004713         40.725563                4  \n",
       "4         -73.989952         40.733327                3  "
      ]
     },
     "execution_count": 6,
     "metadata": {},
     "output_type": "execute_result"
    }
   ],
   "source": [
    "df.head()"
   ]
  },
  {
   "cell_type": "code",
   "execution_count": 8,
   "metadata": {},
   "outputs": [
    {
     "data": {
      "text/plain": [
       "'Upper West Side'"
      ]
     },
     "execution_count": 8,
     "metadata": {},
     "output_type": "execute_result"
    }
   ],
   "source": [
    "get_neighbour(conn,lon=df.pickup_longitude[1],lat=df.pickup_latitude[1])\n"
   ]
  },
  {
   "cell_type": "code",
   "execution_count": 7,
   "metadata": {},
   "outputs": [
    {
     "data": {
      "text/plain": [
       "'Manhattan'"
      ]
     },
     "execution_count": 7,
     "metadata": {},
     "output_type": "execute_result"
    }
   ],
   "source": [
    "get_borough(conn,lon=df.pickup_longitude[1],lat=df.pickup_latitude[1])\n"
   ]
  },
  {
   "cell_type": "code",
   "execution_count": 9,
   "metadata": {},
   "outputs": [
    {
     "name": "stderr",
     "output_type": "stream",
     "text": [
      "100%|██████████| 100000/100000 [26:20<00:00, 63.26it/s]\n"
     ]
    }
   ],
   "source": [
    "hood_pick=[]\n",
    "for i in tqdm(range(len(df))):\n",
    "    try:\n",
    "        z = get_neighbour(conn,lon=df.pickup_longitude[i],lat=df.pickup_latitude[i])\n",
    "        hood_pick.append(z)\n",
    "    except TypeError:\n",
    "        hood_pick.append(\"rip\")\n",
    "        pass"
   ]
  },
  {
   "cell_type": "code",
   "execution_count": null,
   "metadata": {},
   "outputs": [],
   "source": [
    "boro_pick=[]\n",
    "for i in tqdm(range(len(df))):\n",
    "    try:\n",
    "        z = get_borough(conn,lon=df.pickup_longitude[i],lat=df.pickup_latitude[i])\n",
    "        boro_pick.append(z)\n",
    "    except TypeError:\n",
    "        boro_pick.append(\"rip\")\n",
    "        pass"
   ]
  },
  {
   "cell_type": "code",
   "execution_count": null,
   "metadata": {},
   "outputs": [],
   "source": [
    "for i in tqdm(range(len(df))):\n",
    "    try:\n",
    "        z = get_neighbour(conn,lon=df.dropoff_longitude[i],lat=df.dropoff_latitude[i])\n",
    "        hood_drop.append(z)\n",
    "    except TypeError:\n",
    "        hood_drop.append(\"rip\")\n",
    "        pass"
   ]
  },
  {
   "cell_type": "code",
   "execution_count": null,
   "metadata": {},
   "outputs": [],
   "source": [
    "boro_drop = []\n",
    "for i in tqdm(range(len(df))):\n",
    "    try:\n",
    "        z = get_borough(conn,lon=df.dropoff_longitude[i],lat=df.dropoff_latitude[i])\n",
    "        boro_drop.append(z)\n",
    "    except TypeError:\n",
    "        boro_drop.append(\"rip\")\n",
    "        pass"
   ]
  },
  {
   "cell_type": "code",
   "execution_count": null,
   "metadata": {},
   "outputs": [],
   "source": [
    "len(hood_drop)"
   ]
  },
  {
   "cell_type": "code",
   "execution_count": null,
   "metadata": {},
   "outputs": [],
   "source": [
    "hood_pick=[]\n",
    "for i in tqdm(range(len(df_lite))):\n",
    "    try:\n",
    "        z = get_neighbour(conn,lon=df.pickup_longitude[i],lat=df.pickup_latitude[i])\n",
    "        hood_pick.append(z)\n",
    "    except TypeError:\n",
    "        hood_pick.append(\"rip\")\n",
    "        pass"
   ]
  },
  {
   "cell_type": "code",
   "execution_count": null,
   "metadata": {
    "scrolled": true
   },
   "outputs": [],
   "source": [
    "hood_pick"
   ]
  },
  {
   "cell_type": "code",
   "execution_count": null,
   "metadata": {},
   "outputs": [],
   "source": [
    "df_lite = df[0:100].copy()"
   ]
  },
  {
   "cell_type": "code",
   "execution_count": null,
   "metadata": {},
   "outputs": [],
   "source": [
    "df_lite.head()"
   ]
  },
  {
   "cell_type": "code",
   "execution_count": 10,
   "metadata": {},
   "outputs": [],
   "source": [
    "ss = pd.Series(hood_pick)\n",
    "df[\"hood_pick\"] = ss"
   ]
  },
  {
   "cell_type": "code",
   "execution_count": 15,
   "metadata": {},
   "outputs": [],
   "source": [
    "ss1 = pd.Series(hood_drop)\n",
    "df['drop_hood'] = ss1"
   ]
  },
  {
   "cell_type": "code",
   "execution_count": 16,
   "metadata": {},
   "outputs": [],
   "source": [
    "ss2 = pd.Series(boro_pick)\n",
    "df['boro_pick'] = ss2"
   ]
  },
  {
   "cell_type": "code",
   "execution_count": 17,
   "metadata": {},
   "outputs": [],
   "source": [
    "ss3 = pd.Series(boro_drop)\n",
    "df['boro_drop'] = ss3"
   ]
  },
  {
   "cell_type": "code",
   "execution_count": null,
   "metadata": {},
   "outputs": [],
   "source": [
    "se = pd.Series(lists)\n",
    "df.column = se"
   ]
  },
  {
   "cell_type": "code",
   "execution_count": 18,
   "metadata": {},
   "outputs": [
    {
     "data": {
      "text/html": [
       "<div>\n",
       "<style scoped>\n",
       "    .dataframe tbody tr th:only-of-type {\n",
       "        vertical-align: middle;\n",
       "    }\n",
       "\n",
       "    .dataframe tbody tr th {\n",
       "        vertical-align: top;\n",
       "    }\n",
       "\n",
       "    .dataframe thead th {\n",
       "        text-align: right;\n",
       "    }\n",
       "</style>\n",
       "<table border=\"1\" class=\"dataframe\">\n",
       "  <thead>\n",
       "    <tr style=\"text-align: right;\">\n",
       "      <th></th>\n",
       "      <th>Unnamed: 0</th>\n",
       "      <th>key</th>\n",
       "      <th>fare_amount</th>\n",
       "      <th>pickup_datetime</th>\n",
       "      <th>pickup_longitude</th>\n",
       "      <th>pickup_latitude</th>\n",
       "      <th>dropoff_longitude</th>\n",
       "      <th>dropoff_latitude</th>\n",
       "      <th>passenger_count</th>\n",
       "      <th>hood_pick</th>\n",
       "      <th>drop_hood</th>\n",
       "      <th>boro_pick</th>\n",
       "      <th>boro_drop</th>\n",
       "    </tr>\n",
       "  </thead>\n",
       "  <tbody>\n",
       "    <tr>\n",
       "      <th>0</th>\n",
       "      <td>0</td>\n",
       "      <td>2009-09-26 10:00:00.00000061</td>\n",
       "      <td>17.3</td>\n",
       "      <td>2009-09-26 10:00:00 UTC</td>\n",
       "      <td>-73.992270</td>\n",
       "      <td>40.694707</td>\n",
       "      <td>-73.978580</td>\n",
       "      <td>40.753823</td>\n",
       "      <td>6</td>\n",
       "      <td>Brooklyn Heights</td>\n",
       "      <td>Midtown</td>\n",
       "      <td>Brooklyn</td>\n",
       "      <td>Manhattan</td>\n",
       "    </tr>\n",
       "    <tr>\n",
       "      <th>1</th>\n",
       "      <td>1</td>\n",
       "      <td>2013-05-30 23:19:00.000000198</td>\n",
       "      <td>7.0</td>\n",
       "      <td>2013-05-30 23:19:00 UTC</td>\n",
       "      <td>-73.974095</td>\n",
       "      <td>40.783962</td>\n",
       "      <td>-73.951655</td>\n",
       "      <td>40.771982</td>\n",
       "      <td>5</td>\n",
       "      <td>Upper West Side</td>\n",
       "      <td>Upper East Side</td>\n",
       "      <td>Manhattan</td>\n",
       "      <td>Manhattan</td>\n",
       "    </tr>\n",
       "    <tr>\n",
       "      <th>2</th>\n",
       "      <td>2</td>\n",
       "      <td>2009-04-12 18:57:00.000000121</td>\n",
       "      <td>4.1</td>\n",
       "      <td>2009-04-12 18:57:00 UTC</td>\n",
       "      <td>-73.987312</td>\n",
       "      <td>40.768525</td>\n",
       "      <td>-73.989643</td>\n",
       "      <td>40.762507</td>\n",
       "      <td>1</td>\n",
       "      <td>Hell's Kitchen</td>\n",
       "      <td>Hell's Kitchen</td>\n",
       "      <td>Manhattan</td>\n",
       "      <td>Manhattan</td>\n",
       "    </tr>\n",
       "    <tr>\n",
       "      <th>3</th>\n",
       "      <td>3</td>\n",
       "      <td>2012-03-28 12:05:00.00000034</td>\n",
       "      <td>8.9</td>\n",
       "      <td>2012-03-28 12:05:00 UTC</td>\n",
       "      <td>-74.005063</td>\n",
       "      <td>40.748015</td>\n",
       "      <td>-74.004713</td>\n",
       "      <td>40.725563</td>\n",
       "      <td>4</td>\n",
       "      <td>Chelsea</td>\n",
       "      <td>SoHo</td>\n",
       "      <td>Manhattan</td>\n",
       "      <td>Manhattan</td>\n",
       "    </tr>\n",
       "    <tr>\n",
       "      <th>4</th>\n",
       "      <td>4</td>\n",
       "      <td>2013-06-22 23:27:47.0000002</td>\n",
       "      <td>9.5</td>\n",
       "      <td>2013-06-22 23:27:47 UTC</td>\n",
       "      <td>-73.978311</td>\n",
       "      <td>40.745573</td>\n",
       "      <td>-73.989952</td>\n",
       "      <td>40.733327</td>\n",
       "      <td>3</td>\n",
       "      <td>Kips Bay</td>\n",
       "      <td>East Village</td>\n",
       "      <td>Manhattan</td>\n",
       "      <td>Manhattan</td>\n",
       "    </tr>\n",
       "  </tbody>\n",
       "</table>\n",
       "</div>"
      ],
      "text/plain": [
       "   Unnamed: 0                            key  fare_amount  \\\n",
       "0           0   2009-09-26 10:00:00.00000061         17.3   \n",
       "1           1  2013-05-30 23:19:00.000000198          7.0   \n",
       "2           2  2009-04-12 18:57:00.000000121          4.1   \n",
       "3           3   2012-03-28 12:05:00.00000034          8.9   \n",
       "4           4    2013-06-22 23:27:47.0000002          9.5   \n",
       "\n",
       "           pickup_datetime  pickup_longitude  pickup_latitude  \\\n",
       "0  2009-09-26 10:00:00 UTC        -73.992270        40.694707   \n",
       "1  2013-05-30 23:19:00 UTC        -73.974095        40.783962   \n",
       "2  2009-04-12 18:57:00 UTC        -73.987312        40.768525   \n",
       "3  2012-03-28 12:05:00 UTC        -74.005063        40.748015   \n",
       "4  2013-06-22 23:27:47 UTC        -73.978311        40.745573   \n",
       "\n",
       "   dropoff_longitude  dropoff_latitude  passenger_count         hood_pick  \\\n",
       "0         -73.978580         40.753823                6  Brooklyn Heights   \n",
       "1         -73.951655         40.771982                5   Upper West Side   \n",
       "2         -73.989643         40.762507                1    Hell's Kitchen   \n",
       "3         -74.004713         40.725563                4           Chelsea   \n",
       "4         -73.989952         40.733327                3          Kips Bay   \n",
       "\n",
       "         drop_hood  boro_pick  boro_drop  \n",
       "0          Midtown   Brooklyn  Manhattan  \n",
       "1  Upper East Side  Manhattan  Manhattan  \n",
       "2   Hell's Kitchen  Manhattan  Manhattan  \n",
       "3             SoHo  Manhattan  Manhattan  \n",
       "4     East Village  Manhattan  Manhattan  "
      ]
     },
     "execution_count": 18,
     "metadata": {},
     "output_type": "execute_result"
    }
   ],
   "source": [
    "df.head()"
   ]
  },
  {
   "cell_type": "code",
   "execution_count": null,
   "metadata": {},
   "outputs": [],
   "source": [
    "conn.close()"
   ]
  },
  {
   "cell_type": "code",
   "execution_count": null,
   "metadata": {},
   "outputs": [],
   "source": [
    "df.hood_drop.count(\"rip\")"
   ]
  },
  {
   "cell_type": "code",
   "execution_count": null,
   "metadata": {},
   "outputs": [],
   "source": [
    "df.dropna(inplace=True)"
   ]
  },
  {
   "cell_type": "code",
   "execution_count": null,
   "metadata": {},
   "outputs": [],
   "source": [
    "df.isnull().any()\n"
   ]
  },
  {
   "cell_type": "code",
   "execution_count": null,
   "metadata": {},
   "outputs": [],
   "source": [
    "df.reset_index(drop=True,inplace=True)"
   ]
  },
  {
   "cell_type": "code",
   "execution_count": null,
   "metadata": {},
   "outputs": [],
   "source": [
    "df.info()"
   ]
  },
  {
   "cell_type": "code",
   "execution_count": null,
   "metadata": {},
   "outputs": [],
   "source": [
    "boro_drop.append('rip')"
   ]
  },
  {
   "cell_type": "code",
   "execution_count": null,
   "metadata": {},
   "outputs": [],
   "source": [
    "hood_drop.append('rip')"
   ]
  },
  {
   "cell_type": "code",
   "execution_count": null,
   "metadata": {},
   "outputs": [],
   "source": [
    "df.to_csv(\"train_final.csv\")"
   ]
  },
  {
   "cell_type": "code",
   "execution_count": 11,
   "metadata": {},
   "outputs": [],
   "source": [
    "%store -r hood_drop"
   ]
  },
  {
   "cell_type": "code",
   "execution_count": 13,
   "metadata": {},
   "outputs": [],
   "source": [
    "%store -r boro_pick"
   ]
  },
  {
   "cell_type": "code",
   "execution_count": 14,
   "metadata": {},
   "outputs": [],
   "source": [
    "%store -r boro_drop"
   ]
  },
  {
   "cell_type": "code",
   "execution_count": 19,
   "metadata": {},
   "outputs": [],
   "source": [
    "df.to_csv(\"train_10train.csv\")"
   ]
  },
  {
   "cell_type": "code",
   "execution_count": null,
   "metadata": {},
   "outputs": [],
   "source": []
  }
 ],
 "metadata": {
  "kernelspec": {
   "display_name": "Python 3",
   "language": "python",
   "name": "python3"
  },
  "language_info": {
   "codemirror_mode": {
    "name": "ipython",
    "version": 3
   },
   "file_extension": ".py",
   "mimetype": "text/x-python",
   "name": "python",
   "nbconvert_exporter": "python",
   "pygments_lexer": "ipython3",
   "version": "3.6.8"
  },
  "toc": {
   "base_numbering": 1,
   "nav_menu": {},
   "number_sections": true,
   "sideBar": true,
   "skip_h1_title": false,
   "title_cell": "Table of Contents",
   "title_sidebar": "Contents",
   "toc_cell": false,
   "toc_position": {},
   "toc_section_display": true,
   "toc_window_display": false
  }
 },
 "nbformat": 4,
 "nbformat_minor": 2
}
