{
 "cells": [
  {
   "cell_type": "code",
   "execution_count": 2,
   "metadata": {},
   "outputs": [],
   "source": [
    "import warnings\n",
    "import os\n",
    "import torch\n",
    "import torchvision\n",
    "from torch.utils.data import Dataset, DataLoader\n",
    "from torchvision import datasets, transforms\n",
    "import matplotlib.pyplot as plt\n",
    "import numpy as np\n",
    "import torch.nn.functional as F\n",
    "from torch import nn\n",
    "from torch.autograd import Variable\n",
    "from torch.utils.data import random_split\n",
    "from tqdm import tqdm\n",
    "import sklearn.metrics"
   ]
  },
  {
   "cell_type": "code",
   "execution_count": 8,
   "metadata": {},
   "outputs": [
    {
     "data": {
      "text/plain": [
       "['Morus_Nigra',\n",
       " 'Quercus_Agrifolia',\n",
       " 'Quercus_Crassifolia',\n",
       " 'Alnus_Sieboldiana',\n",
       " 'Quercus_Trojana',\n",
       " 'Viburnum_x_Rhytidophylloides',\n",
       " 'Ginkgo_Biloba',\n",
       " 'Quercus_Nigra',\n",
       " 'Olea_Europaea',\n",
       " 'Quercus_Dolicholepis',\n",
       " 'Quercus_Cerris',\n",
       " 'Quercus_Rhysophylla',\n",
       " 'Quercus_Suber',\n",
       " 'Populus_Nigra',\n",
       " 'Quercus_Greggii',\n",
       " 'Cytisus_Battandieri',\n",
       " 'Alnus_Viridis',\n",
       " 'Zelkova_Serrata',\n",
       " 'Quercus_Semecarpifolia',\n",
       " 'Liriodendron_Tulipifera',\n",
       " 'Populus_Grandidentata',\n",
       " 'Quercus_Castaneifolia',\n",
       " 'Lithocarpus_Cleistocarpus',\n",
       " 'Quercus_Palustris',\n",
       " 'Salix_Intergra',\n",
       " 'Acer_Pictum',\n",
       " 'Eucalyptus_Urnigera',\n",
       " 'Alnus_Rubra',\n",
       " 'Tilia_Oliveri',\n",
       " 'Quercus_Coccinea',\n",
       " 'Quercus_x_Hispanica',\n",
       " 'Cercis_Siliquastrum',\n",
       " '.DS_Store',\n",
       " 'Populus_Adenopoda',\n",
       " 'Acer_Platanoids',\n",
       " 'Quercus_Ilex',\n",
       " 'Castanea_Sativa',\n",
       " 'Quercus_Infectoria_sub',\n",
       " 'Ulmus_Bergmanniana',\n",
       " 'Acer_Capillipes',\n",
       " 'Quercus_Pubescens',\n",
       " 'Betula_Pendula',\n",
       " 'Quercus_Vulcanica',\n",
       " 'Quercus_Phillyraeoides',\n",
       " 'Celtis_Koraiensis',\n",
       " 'Ilex_Aquifolium',\n",
       " 'Acer_Circinatum',\n",
       " 'Viburnum_Tinus',\n",
       " 'Quercus_Chrysolepis',\n",
       " 'Magnolia_Salicifolia',\n",
       " 'Fagus_Sylvatica',\n",
       " 'Quercus_Alnifolia',\n",
       " 'Quercus_Ellipsoidalis',\n",
       " 'Callicarpa_Bodinieri',\n",
       " 'Prunus_X_Shmittii',\n",
       " 'Quercus_Crassipes',\n",
       " 'Quercus_Canariensis',\n",
       " 'Acer_Saccharinum',\n",
       " 'Quercus_Hartwissiana',\n",
       " 'Quercus_Shumardii',\n",
       " 'Quercus_Brantii',\n",
       " 'Quercus_Phellos',\n",
       " 'Acer_Palmatum',\n",
       " 'Rhododendron_x_Russellianum',\n",
       " 'Tilia_Tomentosa',\n",
       " 'Crataegus_Monogyna',\n",
       " 'Cornus_Controversa',\n",
       " 'Pterocarya_Stenoptera',\n",
       " 'Quercus_Coccifera',\n",
       " 'Quercus_Texana',\n",
       " 'Arundinaria_Simonii',\n",
       " 'Liquidambar_Styraciflua',\n",
       " 'Prunus_Avium',\n",
       " 'Ilex_Cornuta',\n",
       " 'Magnolia_Heptapeta',\n",
       " 'Alnus_Cordata',\n",
       " 'Phildelphus',\n",
       " 'Acer_Rubrum',\n",
       " 'Quercus_Rubra',\n",
       " 'Tilia_Platyphyllos',\n",
       " 'Alnus_Maximowiczii',\n",
       " 'Lithocarpus_Edulis',\n",
       " 'Quercus_x_Turneri',\n",
       " 'Eucalyptus_Glaucescens',\n",
       " 'Cotinus_Coggygria',\n",
       " 'Sorbus_Aria',\n",
       " 'Quercus_Kewensis',\n",
       " 'Quercus_Afares',\n",
       " 'Cornus_Chinensis',\n",
       " 'Betula_Austrosinensis',\n",
       " 'Quercus_Pyrenaica',\n",
       " 'Salix_Fragilis',\n",
       " 'Quercus_Pontica',\n",
       " 'Cornus_Macrophylla',\n",
       " 'Acer_Opalus',\n",
       " 'Acer_Mono',\n",
       " 'Quercus_Imbricaria',\n",
       " 'Acer_Rufinerve',\n",
       " 'Quercus_Variabilis',\n",
       " 'Eucalyptus_Neglecta']"
      ]
     },
     "execution_count": 8,
     "metadata": {},
     "output_type": "execute_result"
    }
   ],
   "source": [
    "os.listdir('/floyd/input/leaf')"
   ]
  },
  {
   "cell_type": "code",
   "execution_count": 4,
   "metadata": {},
   "outputs": [
    {
     "name": "stderr",
     "output_type": "stream",
     "text": [
      "Downloading: \"https://download.pytorch.org/models/resnet18-5c106cde.pth\" to /root/.torch/models/resnet18-5c106cde.pth\n",
      "46827520it [00:03, 14077271.74it/s]\n"
     ]
    }
   ],
   "source": [
    "model = torchvision.models.resnet18(pretrained=True)"
   ]
  },
  {
   "cell_type": "code",
   "execution_count": 5,
   "metadata": {},
   "outputs": [
    {
     "data": {
      "text/plain": [
       "<torch._C.Generator at 0x7f8b16d76cd0>"
      ]
     },
     "execution_count": 5,
     "metadata": {},
     "output_type": "execute_result"
    }
   ],
   "source": [
    "torch.manual_seed(41)"
   ]
  },
  {
   "cell_type": "code",
   "execution_count": 6,
   "metadata": {},
   "outputs": [],
   "source": [
    "device = torch.device(\"cuda:0\" if torch.cuda.is_available() else \"cpu\")"
   ]
  },
  {
   "cell_type": "code",
   "execution_count": 9,
   "metadata": {},
   "outputs": [],
   "source": [
    "root = '/floyd/input/leaf'"
   ]
  },
  {
   "cell_type": "code",
   "execution_count": 25,
   "metadata": {},
   "outputs": [],
   "source": [
    "transform_pre = transforms.Compose([\n",
    "    transforms.Grayscale(3),\n",
    "    transforms.Resize((200,200)),\n",
    "    transforms.CenterCrop(224),\n",
    "    transforms.ToTensor(),\n",
    "    transforms.Normalize(mean=[0.485, 0.456, 0.406],\n",
    "                                 std=[0.229, 0.224, 0.225])\n",
    "    \n",
    "])"
   ]
  },
  {
   "cell_type": "code",
   "execution_count": 26,
   "metadata": {},
   "outputs": [],
   "source": [
    "dataset = datasets.ImageFolder(root,transform=transform_pre)"
   ]
  },
  {
   "cell_type": "code",
   "execution_count": 27,
   "metadata": {},
   "outputs": [],
   "source": [
    "train,test = random_split(dataset,[790,200])"
   ]
  },
  {
   "cell_type": "code",
   "execution_count": 28,
   "metadata": {},
   "outputs": [],
   "source": [
    "trainloader = torch.utils.data.DataLoader(train, batch_size=64, shuffle=True,drop_last=True )\n",
    "testloader = torch.utils.data.DataLoader(test, batch_size=64, shuffle=False,drop_last=True )"
   ]
  },
  {
   "cell_type": "code",
   "execution_count": 29,
   "metadata": {},
   "outputs": [
    {
     "data": {
      "image/png": "[encoded data removed]",
      "text/plain": [
       "<Figure size 432x288 with 1 Axes>"
      ]
     },
     "metadata": {
      "needs_background": "light"
     },
     "output_type": "display_data"
    }
   ],
   "source": [
    "for inputs,outpus in trainloader:\n",
    "    #slice out one channel\n",
    "    image = inputs[0][0]\n",
    "    plt.imshow(image.numpy(),cmap=plt.get_cmap('binary'))\n",
    "    break"
   ]
  },
  {
   "cell_type": "code",
   "execution_count": 30,
   "metadata": {},
   "outputs": [],
   "source": [
    "model.fc = torch.nn.Linear(model.fc.in_features, 99)"
   ]
  },
  {
   "cell_type": "code",
   "execution_count": 31,
   "metadata": {},
   "outputs": [
    {
     "data": {
      "text/plain": [
       "Linear(in_features=512, out_features=99, bias=True)"
      ]
     },
     "execution_count": 31,
     "metadata": {},
     "output_type": "execute_result"
    }
   ],
   "source": [
    "model.fc"
   ]
  },
  {
   "cell_type": "code",
   "execution_count": 32,
   "metadata": {},
   "outputs": [],
   "source": [
    "if torch.cuda.is_available():\n",
    "    device=torch.device('cuda')\n",
    "else:\n",
    "    device = torch.device('cpu')\n",
    "\n",
    "loss_function = torch.nn.CrossEntropyLoss()\n",
    "optimizer = torch.optim.Adam(model.parameters(),lr = 0.001)"
   ]
  },
  {
   "cell_type": "code",
   "execution_count": 33,
   "metadata": {},
   "outputs": [
    {
     "data": {
      "text/plain": [
       "True"
      ]
     },
     "execution_count": 33,
     "metadata": {},
     "output_type": "execute_result"
    }
   ],
   "source": [
    "torch.cuda.is_available()"
   ]
  },
  {
   "cell_type": "code",
   "execution_count": 34,
   "metadata": {},
   "outputs": [
    {
     "name": "stderr",
     "output_type": "stream",
     "text": [
      "100%|██████████| 12/12 [00:09<00:00,  1.32it/s]\n",
      "  0%|          | 0/12 [00:00<?, ?it/s]"
     ]
    },
    {
     "name": "stdout",
     "output_type": "stream",
     "text": [
      "Last loss: 2.672185182571411 with epoch 0\n"
     ]
    },
    {
     "name": "stderr",
     "output_type": "stream",
     "text": [
      "100%|██████████| 12/12 [00:09<00:00,  1.30it/s]\n",
      "  0%|          | 0/12 [00:00<?, ?it/s]"
     ]
    },
    {
     "name": "stdout",
     "output_type": "stream",
     "text": [
      "Last loss: 1.0323450565338135 with epoch 1\n"
     ]
    },
    {
     "name": "stderr",
     "output_type": "stream",
     "text": [
      "100%|██████████| 12/12 [00:08<00:00,  1.35it/s]\n",
      "  0%|          | 0/12 [00:00<?, ?it/s]"
     ]
    },
    {
     "name": "stdout",
     "output_type": "stream",
     "text": [
      "Last loss: 0.4353121519088745 with epoch 2\n"
     ]
    },
    {
     "name": "stderr",
     "output_type": "stream",
     "text": [
      "100%|██████████| 12/12 [00:09<00:00,  1.36it/s]\n",
      "  0%|          | 0/12 [00:00<?, ?it/s]"
     ]
    },
    {
     "name": "stdout",
     "output_type": "stream",
     "text": [
      "Last loss: 0.14042454957962036 with epoch 3\n"
     ]
    },
    {
     "name": "stderr",
     "output_type": "stream",
     "text": [
      "100%|██████████| 12/12 [00:09<00:00,  1.33it/s]\n",
      "  0%|          | 0/12 [00:00<?, ?it/s]"
     ]
    },
    {
     "name": "stdout",
     "output_type": "stream",
     "text": [
      "Last loss: 0.08694776147603989 with epoch 4\n"
     ]
    },
    {
     "name": "stderr",
     "output_type": "stream",
     "text": [
      "100%|██████████| 12/12 [00:08<00:00,  1.33it/s]\n",
      "  0%|          | 0/12 [00:00<?, ?it/s]"
     ]
    },
    {
     "name": "stdout",
     "output_type": "stream",
     "text": [
      "Last loss: 0.06481599807739258 with epoch 5\n"
     ]
    },
    {
     "name": "stderr",
     "output_type": "stream",
     "text": [
      "100%|██████████| 12/12 [00:09<00:00,  1.31it/s]\n",
      "  0%|          | 0/12 [00:00<?, ?it/s]"
     ]
    },
    {
     "name": "stdout",
     "output_type": "stream",
     "text": [
      "Last loss: 0.027208715677261353 with epoch 6\n"
     ]
    },
    {
     "name": "stderr",
     "output_type": "stream",
     "text": [
      "100%|██████████| 12/12 [00:09<00:00,  1.31it/s]\n",
      "  0%|          | 0/12 [00:00<?, ?it/s]"
     ]
    },
    {
     "name": "stdout",
     "output_type": "stream",
     "text": [
      "Last loss: 0.03034452348947525 with epoch 7\n"
     ]
    },
    {
     "name": "stderr",
     "output_type": "stream",
     "text": [
      "100%|██████████| 12/12 [00:09<00:00,  1.33it/s]\n",
      "  0%|          | 0/12 [00:00<?, ?it/s]"
     ]
    },
    {
     "name": "stdout",
     "output_type": "stream",
     "text": [
      "Last loss: 0.012760959565639496 with epoch 8\n"
     ]
    },
    {
     "name": "stderr",
     "output_type": "stream",
     "text": [
      "100%|██████████| 12/12 [00:09<00:00,  1.31it/s]\n",
      "  0%|          | 0/12 [00:00<?, ?it/s]"
     ]
    },
    {
     "name": "stdout",
     "output_type": "stream",
     "text": [
      "Last loss: 0.015033036470413208 with epoch 9\n"
     ]
    },
    {
     "name": "stderr",
     "output_type": "stream",
     "text": [
      "100%|██████████| 12/12 [00:09<00:00,  1.32it/s]\n",
      "  0%|          | 0/12 [00:00<?, ?it/s]"
     ]
    },
    {
     "name": "stdout",
     "output_type": "stream",
     "text": [
      "Last loss: 0.008747190237045288 with epoch 10\n"
     ]
    },
    {
     "name": "stderr",
     "output_type": "stream",
     "text": [
      "100%|██████████| 12/12 [00:09<00:00,  1.32it/s]\n",
      "  0%|          | 0/12 [00:00<?, ?it/s]"
     ]
    },
    {
     "name": "stdout",
     "output_type": "stream",
     "text": [
      "Last loss: 0.006479881703853607 with epoch 11\n"
     ]
    },
    {
     "name": "stderr",
     "output_type": "stream",
     "text": [
      "100%|██████████| 12/12 [00:09<00:00,  1.30it/s]\n",
      "  0%|          | 0/12 [00:00<?, ?it/s]"
     ]
    },
    {
     "name": "stdout",
     "output_type": "stream",
     "text": [
      "Last loss: 0.004027359187602997 with epoch 12\n"
     ]
    },
    {
     "name": "stderr",
     "output_type": "stream",
     "text": [
      "100%|██████████| 12/12 [00:09<00:00,  1.35it/s]\n",
      "  0%|          | 0/12 [00:00<?, ?it/s]"
     ]
    },
    {
     "name": "stdout",
     "output_type": "stream",
     "text": [
      "Last loss: 0.0037316828966140747 with epoch 13\n"
     ]
    },
    {
     "name": "stderr",
     "output_type": "stream",
     "text": [
      "100%|██████████| 12/12 [00:09<00:00,  1.31it/s]\n",
      "  0%|          | 0/12 [00:00<?, ?it/s]"
     ]
    },
    {
     "name": "stdout",
     "output_type": "stream",
     "text": [
      "Last loss: 0.002673804759979248 with epoch 14\n"
     ]
    },
    {
     "name": "stderr",
     "output_type": "stream",
     "text": [
      "100%|██████████| 12/12 [00:09<00:00,  1.30it/s]\n",
      "  0%|          | 0/12 [00:00<?, ?it/s]"
     ]
    },
    {
     "name": "stdout",
     "output_type": "stream",
     "text": [
      "Last loss: 0.0028856322169303894 with epoch 15\n"
     ]
    },
    {
     "name": "stderr",
     "output_type": "stream",
     "text": [
      "100%|██████████| 12/12 [00:08<00:00,  1.36it/s]\n"
     ]
    },
    {
     "name": "stdout",
     "output_type": "stream",
     "text": [
      "Last loss: 0.0020058751106262207 with epoch 16\n"
     ]
    }
   ],
   "source": [
    "model.to(device)\n",
    "model.train()\n",
    "for epoch in range(17):\n",
    "    for inputs, outputs in tqdm(trainloader):\n",
    "        inputs = inputs.to(device, non_blocking=True)\n",
    "        outputs = outputs.to(device, non_blocking=True)\n",
    "        optimizer.zero_grad()\n",
    "        results = model(inputs)\n",
    "        loss = loss_function(results, outputs)\n",
    "        loss.backward()\n",
    "        optimizer.step()\n",
    "    print('Last loss: {0}'.format(loss),'with epoch',epoch+1)"
   ]
  },
  {
   "cell_type": "code",
   "execution_count": 35,
   "metadata": {},
   "outputs": [
    {
     "name": "stdout",
     "output_type": "stream",
     "text": [
      "              precision    recall  f1-score   support\n",
      "\n",
      "           0       1.00      1.00      1.00         2\n",
      "           1       1.00      1.00      1.00         2\n",
      "           2       1.00      1.00      1.00         1\n",
      "           3       1.00      1.00      1.00         3\n",
      "           4       1.00      1.00      1.00         3\n",
      "           5       1.00      1.00      1.00         1\n",
      "           6       0.00      0.00      0.00         0\n",
      "           7       1.00      1.00      1.00         3\n",
      "           8       1.00      1.00      1.00         3\n",
      "           9       1.00      1.00      1.00         1\n",
      "          10       1.00      1.00      1.00         3\n",
      "          11       1.00      1.00      1.00         3\n",
      "          13       1.00      1.00      1.00         2\n",
      "          14       1.00      1.00      1.00         1\n",
      "          15       1.00      1.00      1.00         2\n",
      "          16       1.00      1.00      1.00         2\n",
      "          17       1.00      1.00      1.00         1\n",
      "          18       1.00      1.00      1.00         2\n",
      "          19       1.00      1.00      1.00         2\n",
      "          20       1.00      1.00      1.00         2\n",
      "          21       1.00      1.00      1.00         4\n",
      "          22       0.00      0.00      0.00         1\n",
      "          23       1.00      1.00      1.00         1\n",
      "          24       0.00      0.00      0.00         0\n",
      "          25       1.00      1.00      1.00         3\n",
      "          26       1.00      1.00      1.00         2\n",
      "          27       1.00      1.00      1.00         5\n",
      "          28       1.00      1.00      1.00         3\n",
      "          29       1.00      0.50      0.67         2\n",
      "          30       1.00      1.00      1.00         1\n",
      "          31       1.00      1.00      1.00         1\n",
      "          32       1.00      1.00      1.00         1\n",
      "          34       1.00      1.00      1.00         1\n",
      "          35       1.00      1.00      1.00         4\n",
      "          36       1.00      1.00      1.00         1\n",
      "          37       0.50      1.00      0.67         1\n",
      "          38       1.00      1.00      1.00         4\n",
      "          39       1.00      0.67      0.80         3\n",
      "          40       1.00      1.00      1.00         2\n",
      "          41       1.00      1.00      1.00         3\n",
      "          42       1.00      1.00      1.00         1\n",
      "          43       1.00      1.00      1.00         2\n",
      "          44       1.00      1.00      1.00         2\n",
      "          45       1.00      1.00      1.00         2\n",
      "          46       1.00      1.00      1.00         2\n",
      "          48       1.00      1.00      1.00         1\n",
      "          49       1.00      1.00      1.00         2\n",
      "          50       0.00      0.00      0.00         1\n",
      "          51       1.00      1.00      1.00         2\n",
      "          52       1.00      1.00      1.00         2\n",
      "          53       1.00      1.00      1.00         1\n",
      "          54       1.00      1.00      1.00         3\n",
      "          55       0.80      1.00      0.89         4\n",
      "          56       1.00      1.00      1.00         2\n",
      "          57       0.33      1.00      0.50         1\n",
      "          58       1.00      1.00      1.00         3\n",
      "          59       0.20      1.00      0.33         1\n",
      "          60       1.00      1.00      1.00         1\n",
      "          61       1.00      1.00      1.00         1\n",
      "          63       0.00      0.00      0.00         5\n",
      "          64       1.00      1.00      1.00         3\n",
      "          65       1.00      1.00      1.00         3\n",
      "          66       0.00      0.00      0.00         1\n",
      "          67       0.33      1.00      0.50         1\n",
      "          68       1.00      1.00      1.00         3\n",
      "          69       1.00      1.00      1.00         2\n",
      "          70       1.00      1.00      1.00         3\n",
      "          71       0.33      1.00      0.50         1\n",
      "          72       1.00      1.00      1.00         3\n",
      "          73       1.00      1.00      1.00         2\n",
      "          74       1.00      1.00      1.00         1\n",
      "          75       1.00      1.00      1.00         2\n",
      "          76       1.00      1.00      1.00         1\n",
      "          77       0.00      0.00      0.00         3\n",
      "          78       1.00      0.67      0.80         3\n",
      "          79       1.00      1.00      1.00         3\n",
      "          80       1.00      0.80      0.89         5\n",
      "          81       0.67      1.00      0.80         2\n",
      "          82       1.00      0.50      0.67         2\n",
      "          83       1.00      1.00      1.00         2\n",
      "          85       1.00      1.00      1.00         2\n",
      "          86       1.00      1.00      1.00         1\n",
      "          87       1.00      1.00      1.00         1\n",
      "          88       1.00      0.33      0.50         3\n",
      "          89       1.00      1.00      1.00         4\n",
      "          90       1.00      1.00      1.00         1\n",
      "          92       1.00      1.00      1.00         2\n",
      "          93       1.00      1.00      1.00         1\n",
      "          94       1.00      1.00      1.00         1\n",
      "          95       1.00      1.00      1.00         3\n",
      "          96       1.00      1.00      1.00         2\n",
      "          97       0.33      1.00      0.50         1\n",
      "          98       1.00      1.00      1.00         3\n",
      "\n",
      "   micro avg       0.91      0.91      0.91       192\n",
      "   macro avg       0.88      0.90      0.87       192\n",
      "weighted avg       0.91      0.91      0.90       192\n",
      "\n"
     ]
    },
    {
     "name": "stderr",
     "output_type": "stream",
     "text": [
      "/usr/local/lib/python3.6/site-packages/sklearn/metrics/classification.py:1143: UndefinedMetricWarning: Precision and F-score are ill-defined and being set to 0.0 in labels with no predicted samples.\n",
      "  'precision', 'predicted', average, warn_for)\n",
      "/usr/local/lib/python3.6/site-packages/sklearn/metrics/classification.py:1145: UndefinedMetricWarning: Recall and F-score are ill-defined and being set to 0.0 in labels with no true samples.\n",
      "  'recall', 'true', average, warn_for)\n"
     ]
    }
   ],
   "source": [
    "results_buffer = []\n",
    "actual_buffer = []\n",
    "with torch.no_grad():\n",
    "    model.eval()\n",
    "    for inputs,actual in testloader:\n",
    "        inputs = inputs.to(device, non_blocking=True)\n",
    "        results = model(inputs).argmax(dim=1).to('cpu').numpy()\n",
    "        results_buffer.append(results)\n",
    "        actual_buffer.append(actual)\n",
    "        \n",
    "        \n",
    "print(sklearn.metrics.classification_report(np.concatenate(actual_buffer),np.concatenate(results_buffer)))"
   ]
  },
  {
   "cell_type": "code",
   "execution_count": 1,
   "metadata": {},
   "outputs": [
    {
     "ename": "NameError",
     "evalue": "name 'dataset' is not defined",
     "output_type": "error",
     "traceback": [
      "\u001b[0;31m---------------------------------------------------------------------------\u001b[0m",
      "\u001b[0;31mNameError\u001b[0m                                 Traceback (most recent call last)",
      "\u001b[0;32m<ipython-input-1-2553af7ed7af>\u001b[0m in \u001b[0;36m<module>\u001b[0;34m\u001b[0m\n\u001b[0;32m----> 1\u001b[0;31m \u001b[0mclass_label\u001b[0m \u001b[0;34m=\u001b[0m \u001b[0mdataset\u001b[0m\u001b[0;34m.\u001b[0m\u001b[0mclasses\u001b[0m\u001b[0;34m\u001b[0m\u001b[0;34m\u001b[0m\u001b[0m\n\u001b[0m",
      "\u001b[0;31mNameError\u001b[0m: name 'dataset' is not defined"
     ]
    }
   ],
   "source": [
    "class_label = dataset.classes"
   ]
  },
  {
   "cell_type": "code",
   "execution_count": 41,
   "metadata": {},
   "outputs": [
    {
     "name": "stdout",
     "output_type": "stream",
     "text": [
      "Test Loss: 0.252257\n",
      "\n",
      "Test Accuracy of Acer_Opalus: 100% ( 2/ 2)\n",
      "Test Accuracy of Pterocarya_Stenoptera: 100% ( 2/ 2)\n",
      "Test Accuracy of Quercus_Hartwissiana: 100% ( 1/ 1)\n",
      "Test Accuracy of Tilia_Tomentosa: 100% ( 3/ 3)\n",
      "Test Accuracy of Quercus_Variabilis: 100% ( 3/ 3)\n",
      "Test Accuracy of Magnolia_Salicifolia: 100% ( 1/ 1)\n",
      "Test Accuracy of Quercus_Canariensis: N/A (no training examples)\n",
      "Test Accuracy of Quercus_Rubra: 100% ( 3/ 3)\n",
      "Test Accuracy of Quercus_Brantii: 100% ( 3/ 3)\n",
      "Test Accuracy of Salix_Fragilis: 100% ( 1/ 1)\n",
      "Test Accuracy of Zelkova_Serrata: 100% ( 3/ 3)\n",
      "Test Accuracy of Betula_Austrosinensis: 100% ( 3/ 3)\n",
      "Test Accuracy of Quercus_Pontica: N/A (no training examples)\n",
      "Test Accuracy of Quercus_Afares: 100% ( 2/ 2)\n",
      "Test Accuracy of Quercus_Coccifera: 100% ( 1/ 1)\n",
      "Test Accuracy of Fagus_Sylvatica: 100% ( 2/ 2)\n",
      "Test Accuracy of Phildelphus: 100% ( 2/ 2)\n",
      "Test Accuracy of Acer_Palmatum: 100% ( 1/ 1)\n",
      "Test Accuracy of Quercus_Pubescens: 100% ( 2/ 2)\n",
      "Test Accuracy of Populus_Adenopoda: 100% ( 2/ 2)\n",
      "Test Accuracy of Quercus_Trojana: 100% ( 2/ 2)\n",
      "Test Accuracy of Quercus_Variabilis: 100% ( 4/ 4)\n",
      "Test Accuracy of Alnus_Sieboldiana:  0% ( 0/ 1)\n",
      "Test Accuracy of Quercus_Ilex: 100% ( 1/ 1)\n",
      "Test Accuracy of Arundinaria_Simonii: N/A (no training examples)\n",
      "Test Accuracy of Acer_Platanoids: 100% ( 3/ 3)\n",
      "Test Accuracy of Quercus_Phillyraeoides: 100% ( 2/ 2)\n",
      "Test Accuracy of Cornus_Chinensis: 100% ( 5/ 5)\n",
      "Test Accuracy of Quercus_Phillyraeoides: 100% ( 3/ 3)\n",
      "Test Accuracy of Fagus_Sylvatica: 50% ( 1/ 2)\n",
      "Test Accuracy of Liriodendron_Tulipifera: 100% ( 1/ 1)\n",
      "Test Accuracy of Cytisus_Battandieri: 100% ( 1/ 1)\n",
      "Test Accuracy of Tilia_Tomentosa: 100% ( 1/ 1)\n",
      "Test Accuracy of Rhododendron_x_Russellianum: N/A (no training examples)\n",
      "Test Accuracy of Alnus_Rubra: 100% ( 1/ 1)\n",
      "Test Accuracy of Eucalyptus_Glaucescens: 100% ( 4/ 4)\n",
      "Test Accuracy of Cercis_Siliquastrum: 100% ( 1/ 1)\n",
      "Test Accuracy of Cotinus_Coggygria: 100% ( 1/ 1)\n",
      "Test Accuracy of Celtis_Koraiensis: 100% ( 4/ 4)\n",
      "Test Accuracy of Quercus_Crassifolia: 66% ( 2/ 3)\n",
      "Test Accuracy of Quercus_Variabilis: 100% ( 2/ 2)\n",
      "Test Accuracy of Quercus_Hartwissiana: 100% ( 3/ 3)\n",
      "Test Accuracy of Quercus_Kewensis: 100% ( 1/ 1)\n",
      "Test Accuracy of Quercus_Coccifera: 100% ( 2/ 2)\n",
      "Test Accuracy of Cornus_Controversa: 100% ( 2/ 2)\n",
      "Test Accuracy of Quercus_Pyrenaica: 100% ( 2/ 2)\n",
      "Test Accuracy of Callicarpa_Bodinieri: 100% ( 2/ 2)\n",
      "Test Accuracy of Quercus_Alnifolia: N/A (no training examples)\n",
      "Test Accuracy of Quercus_Canariensis: 100% ( 1/ 1)\n",
      "Test Accuracy of Acer_Saccharinum: 100% ( 2/ 2)\n",
      "Test Accuracy of Prunus_X_Shmittii:  0% ( 0/ 1)\n",
      "Test Accuracy of Prunus_Avium: 100% ( 2/ 2)\n",
      "Test Accuracy of Quercus_Greggii: 100% ( 2/ 2)\n",
      "Test Accuracy of Quercus_Suber: 100% ( 1/ 1)\n",
      "Test Accuracy of Quercus_Trojana: 100% ( 3/ 3)\n",
      "Test Accuracy of Liriodendron_Tulipifera: 100% ( 4/ 4)\n",
      "Test Accuracy of Quercus_Coccifera: 100% ( 2/ 2)\n",
      "Test Accuracy of Cercis_Siliquastrum: 100% ( 1/ 1)\n",
      "Test Accuracy of Quercus_Suber: 100% ( 3/ 3)\n",
      "Test Accuracy of Celtis_Koraiensis: 100% ( 1/ 1)\n",
      "Test Accuracy of Quercus_Dolicholepis: 100% ( 1/ 1)\n",
      "Test Accuracy of Rhododendron_x_Russellianum: 100% ( 1/ 1)\n",
      "Test Accuracy of Ilex_Cornuta: N/A (no training examples)\n",
      "Test Accuracy of Tilia_Oliveri:  0% ( 0/ 5)\n",
      "Test Accuracy of Quercus_Semecarpifolia: 100% ( 3/ 3)\n",
      "Test Accuracy of Quercus_Texana: 100% ( 3/ 3)\n",
      "Test Accuracy of Celtis_Koraiensis:  0% ( 0/ 1)\n",
      "Test Accuracy of Ginkgo_Biloba: 100% ( 1/ 1)\n",
      "Test Accuracy of Acer_Palmatum: 100% ( 3/ 3)\n",
      "Test Accuracy of Quercus_Variabilis: 100% ( 2/ 2)\n",
      "Test Accuracy of Liriodendron_Tulipifera: 100% ( 3/ 3)\n",
      "Test Accuracy of Liquidambar_Styraciflua: 100% ( 1/ 1)\n",
      "Test Accuracy of Quercus_Phellos: 100% ( 3/ 3)\n",
      "Test Accuracy of Quercus_Crassifolia: 100% ( 2/ 2)\n",
      "Test Accuracy of Quercus_Palustris: 100% ( 1/ 1)\n",
      "Test Accuracy of Quercus_Phellos: 100% ( 2/ 2)\n",
      "Test Accuracy of Quercus_Alnifolia: 100% ( 1/ 1)\n",
      "Test Accuracy of Quercus_Afares:  0% ( 0/ 3)\n",
      "Test Accuracy of Quercus_Canariensis: 66% ( 2/ 3)\n",
      "Test Accuracy of Alnus_Maximowiczii: 100% ( 3/ 3)\n",
      "Test Accuracy of Quercus_Agrifolia: 80% ( 4/ 5)\n",
      "Test Accuracy of Callicarpa_Bodinieri: 100% ( 2/ 2)\n",
      "Test Accuracy of Prunus_Avium: 50% ( 1/ 2)\n",
      "Test Accuracy of Acer_Pictum: 100% ( 2/ 2)\n",
      "Test Accuracy of Acer_Rufinerve: N/A (no training examples)\n",
      "Test Accuracy of Lithocarpus_Cleistocarpus: 100% ( 2/ 2)\n",
      "Test Accuracy of Viburnum_x_Rhytidophylloides: 100% ( 1/ 1)\n",
      "Test Accuracy of Celtis_Koraiensis: 100% ( 1/ 1)\n",
      "Test Accuracy of Ilex_Aquifolium: 33% ( 1/ 3)\n",
      "Test Accuracy of Acer_Circinatum: 100% ( 4/ 4)\n",
      "Test Accuracy of Quercus_Coccinea: 100% ( 1/ 1)\n",
      "Test Accuracy of Acer_Circinatum: N/A (no training examples)\n",
      "Test Accuracy of Quercus_Cerris: 100% ( 2/ 2)\n",
      "Test Accuracy of Acer_Circinatum: 100% ( 1/ 1)\n",
      "Test Accuracy of Acer_Saccharinum: 100% ( 1/ 1)\n",
      "Test Accuracy of Quercus_Chrysolepis: 100% ( 3/ 3)\n",
      "Test Accuracy of Celtis_Koraiensis: 100% ( 2/ 2)\n",
      "Test Accuracy of Quercus_Semecarpifolia: 100% ( 1/ 1)\n",
      "Test Accuracy of Eucalyptus_Neglecta: 100% ( 3/ 3)\n",
      "\n",
      "Test Accuracy (Overall): 90% (174/192)\n"
     ]
    }
   ],
   "source": [
    "\n",
    "# initialize lists to monitor test loss and accuracy\n",
    "test_loss = 0.0\n",
    "class_correct = list(0. for i in range(99))\n",
    "class_total = list(0. for i in range(99))\n",
    "notrain=0\n",
    "\n",
    "model.eval() # prep model for evaluation\n",
    "\n",
    "for data, target in testloader:\n",
    "    # forward pass: compute predicted outputs by passing inputs to the model\n",
    "    data = data.to(device, non_blocking=True)\n",
    "    target = target.to(device, non_blocking=True)\n",
    "    output = model(data)\n",
    "    # calculate the loss\n",
    "    loss = loss_function(output, target)\n",
    "    # update test loss \n",
    "    test_loss += loss.item()*data.size(0)\n",
    "    # convert output probabilities to predicted class\n",
    "    _, pred = torch.max(output, 1)\n",
    "    # compare predictions to true label\n",
    "    correct = np.squeeze(pred.eq(target.data.view_as(pred)))\n",
    "    # calculate test accuracy for each object class\n",
    "    for i in range(len(target)):\n",
    "        label = target.data[i]\n",
    "        class_correct[label] += correct[i].item()\n",
    "        class_total[label] += 1\n",
    "\n",
    "# calculate and print avg test loss\n",
    "test_loss = test_loss/len(testloader.sampler)\n",
    "print('Test Loss: {:.6f}\\n'.format(test_loss))\n",
    "\n",
    "for i in range(99):\n",
    "    if class_total[i] > 0:\n",
    "        print('Test Accuracy of %5s: %2d%% (%2d/%2d)' % (\n",
    "            class_label[i], 100 * class_correct[i] / class_total[i],\n",
    "            np.sum(class_correct[i]), np.sum(class_total[i])))\n",
    "    else:\n",
    "        print('Test Accuracy of %5s: N/A (no training examples)' % (class_label[i]))\n",
    "        notrain +=1\n",
    "\n",
    "print('\\nTest Accuracy (Overall): %2d%% (%2d/%2d)' % (\n",
    "    100. * np.sum(class_correct) / np.sum(class_total),\n",
    "    np.sum(class_correct), np.sum(class_total)))"
   ]
  },
  {
   "cell_type": "code",
   "execution_count": null,
   "metadata": {},
   "outputs": [],
   "source": [
    "torch.save(mode.state_dict(), 'model.pt')\n",
    "model.load_state_dict(torch.load('model.pt'))"
   ]
  }
 ],
 "metadata": {
  "kernelspec": {
   "display_name": "Python 3",
   "language": "python",
   "name": "python3"
  },
  "language_info": {
   "codemirror_mode": {
    "name": "ipython",
    "version": 3
   },
   "file_extension": ".py",
   "mimetype": "text/x-python",
   "name": "python",
   "nbconvert_exporter": "python",
   "pygments_lexer": "ipython3",
   "version": "3.6.8"
  }
 },
 "nbformat": 4,
 "nbformat_minor": 2
}
