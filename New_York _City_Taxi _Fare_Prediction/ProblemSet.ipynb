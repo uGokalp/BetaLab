{
 "cells": [
  {
   "cell_type": "markdown",
   "metadata": {},
   "source": [
    "# Problem Set"
   ]
  },
  {
   "cell_type": "markdown",
   "metadata": {},
   "source": [
    "## Short Answer Questions"
   ]
  },
  {
   "cell_type": "markdown",
   "metadata": {},
   "source": [
    "#### What is a cross-validation set? What is its role?"
   ]
  },
  {
   "cell_type": "markdown",
   "metadata": {},
   "source": [
    "Cross-validation set is a subset of your data that is used to evaluate the model.\n",
    "You form your cross-validation set but splitting your training data into two.\n",
    "The cross-validation set is used so that you can test your models robustness to new data that is hasn't seen before. This process helps the model to better generalize."
   ]
  },
  {
   "cell_type": "markdown",
   "metadata": {},
   "source": [
    " "
   ]
  },
  {
   "cell_type": "markdown",
   "metadata": {},
   "source": [
    "#### Give an analogy which represents why we do not want to train a model on data from the test set."
   ]
  },
  {
   "cell_type": "markdown",
   "metadata": {},
   "source": []
  },
  {
   "cell_type": "markdown",
   "metadata": {},
   "source": []
  },
  {
   "cell_type": "markdown",
   "metadata": {},
   "source": [
    "#### What is a gradient? What is gradient descent?\n"
   ]
  },
  {
   "cell_type": "markdown",
   "metadata": {},
   "source": [
    "The gradient is the derivative(slope) of the function in higher dimensions.\n",
    "Gradient descent: We want to minimize the cost function and in order to do that the function must converge to a global minimum. An iterative way of reaching gradient descent is as follows:\n",
    "1. Set a = some number\n",
    "2. Set a = a - gradient * learning rate\n",
    "3. Iterate until the function converges\n",
    "\n",
    "    This is called gradient descent as it is a step towards negeative gradient direction (steepest downhill direction) "
   ]
  },
  {
   "cell_type": "code",
   "execution_count": null,
   "metadata": {},
   "outputs": [],
   "source": []
  }
 ],
 "metadata": {
  "kernelspec": {
   "display_name": "Python 3",
   "language": "python",
   "name": "python3"
  },
  "language_info": {
   "codemirror_mode": {
    "name": "ipython",
    "version": 3
   },
   "file_extension": ".py",
   "mimetype": "text/x-python",
   "name": "python",
   "nbconvert_exporter": "python",
   "pygments_lexer": "ipython3",
   "version": "3.6.8"
  }
 },
 "nbformat": 4,
 "nbformat_minor": 2
}
