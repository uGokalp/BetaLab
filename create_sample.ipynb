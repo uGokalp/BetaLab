{
 "cells": [
  {
   "cell_type": "code",
   "execution_count": 1,
   "metadata": {},
   "outputs": [],
   "source": [
    "%matplotlib inline"
   ]
  },
  {
   "cell_type": "code",
   "execution_count": 2,
   "metadata": {},
   "outputs": [],
   "source": [
    "import pandas as pd\n",
    "import numpy as np\n",
    "import matplotlib.pyplot as plt\n",
    "import seaborn as sns\n",
    "from tqdm import tqdm\n",
    "import scipy\n",
    "from haversine import haversine"
   ]
  },
  {
   "cell_type": "code",
   "execution_count": null,
   "metadata": {},
   "outputs": [],
   "source": []
  },
  {
   "cell_type": "code",
   "execution_count": 3,
   "metadata": {},
   "outputs": [],
   "source": [
    "df=pd.read_csv(\"train.csv\",nrows = 5_000_000)"
   ]
  },
  {
   "cell_type": "code",
   "execution_count": 4,
   "metadata": {},
   "outputs": [],
   "source": [
    "df_new = df.sample(n=100000,random_state=5)"
   ]
  },
  {
   "cell_type": "code",
   "execution_count": 5,
   "metadata": {},
   "outputs": [],
   "source": [
    "df_new.reset_index(drop=True,inplace=True)"
   ]
  },
  {
   "cell_type": "code",
   "execution_count": 6,
   "metadata": {},
   "outputs": [
    {
     "data": {
      "text/html": [
       "<div>\n",
       "<style scoped>\n",
       "    .dataframe tbody tr th:only-of-type {\n",
       "        vertical-align: middle;\n",
       "    }\n",
       "\n",
       "    .dataframe tbody tr th {\n",
       "        vertical-align: top;\n",
       "    }\n",
       "\n",
       "    .dataframe thead th {\n",
       "        text-align: right;\n",
       "    }\n",
       "</style>\n",
       "<table border=\"1\" class=\"dataframe\">\n",
       "  <thead>\n",
       "    <tr style=\"text-align: right;\">\n",
       "      <th></th>\n",
       "      <th>key</th>\n",
       "      <th>fare_amount</th>\n",
       "      <th>pickup_datetime</th>\n",
       "      <th>pickup_longitude</th>\n",
       "      <th>pickup_latitude</th>\n",
       "      <th>dropoff_longitude</th>\n",
       "      <th>dropoff_latitude</th>\n",
       "      <th>passenger_count</th>\n",
       "    </tr>\n",
       "  </thead>\n",
       "  <tbody>\n",
       "    <tr>\n",
       "      <th>0</th>\n",
       "      <td>2009-09-26 10:00:00.00000061</td>\n",
       "      <td>17.3</td>\n",
       "      <td>2009-09-26 10:00:00 UTC</td>\n",
       "      <td>-73.992270</td>\n",
       "      <td>40.694707</td>\n",
       "      <td>-73.978580</td>\n",
       "      <td>40.753823</td>\n",
       "      <td>6</td>\n",
       "    </tr>\n",
       "    <tr>\n",
       "      <th>1</th>\n",
       "      <td>2013-05-30 23:19:00.000000198</td>\n",
       "      <td>7.0</td>\n",
       "      <td>2013-05-30 23:19:00 UTC</td>\n",
       "      <td>-73.974095</td>\n",
       "      <td>40.783962</td>\n",
       "      <td>-73.951655</td>\n",
       "      <td>40.771982</td>\n",
       "      <td>5</td>\n",
       "    </tr>\n",
       "    <tr>\n",
       "      <th>2</th>\n",
       "      <td>2009-04-12 18:57:00.000000121</td>\n",
       "      <td>4.1</td>\n",
       "      <td>2009-04-12 18:57:00 UTC</td>\n",
       "      <td>-73.987312</td>\n",
       "      <td>40.768525</td>\n",
       "      <td>-73.989643</td>\n",
       "      <td>40.762507</td>\n",
       "      <td>1</td>\n",
       "    </tr>\n",
       "    <tr>\n",
       "      <th>3</th>\n",
       "      <td>2012-03-28 12:05:00.00000034</td>\n",
       "      <td>8.9</td>\n",
       "      <td>2012-03-28 12:05:00 UTC</td>\n",
       "      <td>-74.005063</td>\n",
       "      <td>40.748015</td>\n",
       "      <td>-74.004713</td>\n",
       "      <td>40.725563</td>\n",
       "      <td>4</td>\n",
       "    </tr>\n",
       "    <tr>\n",
       "      <th>4</th>\n",
       "      <td>2013-06-22 23:27:47.0000002</td>\n",
       "      <td>9.5</td>\n",
       "      <td>2013-06-22 23:27:47 UTC</td>\n",
       "      <td>-73.978311</td>\n",
       "      <td>40.745573</td>\n",
       "      <td>-73.989952</td>\n",
       "      <td>40.733327</td>\n",
       "      <td>3</td>\n",
       "    </tr>\n",
       "  </tbody>\n",
       "</table>\n",
       "</div>"
      ],
      "text/plain": [
       "                             key  fare_amount          pickup_datetime  \\\n",
       "0   2009-09-26 10:00:00.00000061         17.3  2009-09-26 10:00:00 UTC   \n",
       "1  2013-05-30 23:19:00.000000198          7.0  2013-05-30 23:19:00 UTC   \n",
       "2  2009-04-12 18:57:00.000000121          4.1  2009-04-12 18:57:00 UTC   \n",
       "3   2012-03-28 12:05:00.00000034          8.9  2012-03-28 12:05:00 UTC   \n",
       "4    2013-06-22 23:27:47.0000002          9.5  2013-06-22 23:27:47 UTC   \n",
       "\n",
       "   pickup_longitude  pickup_latitude  dropoff_longitude  dropoff_latitude  \\\n",
       "0        -73.992270        40.694707         -73.978580         40.753823   \n",
       "1        -73.974095        40.783962         -73.951655         40.771982   \n",
       "2        -73.987312        40.768525         -73.989643         40.762507   \n",
       "3        -74.005063        40.748015         -74.004713         40.725563   \n",
       "4        -73.978311        40.745573         -73.989952         40.733327   \n",
       "\n",
       "   passenger_count  \n",
       "0                6  \n",
       "1                5  \n",
       "2                1  \n",
       "3                4  \n",
       "4                3  "
      ]
     },
     "execution_count": 6,
     "metadata": {},
     "output_type": "execute_result"
    }
   ],
   "source": [
    "df_new.head()"
   ]
  },
  {
   "cell_type": "code",
   "execution_count": 7,
   "metadata": {},
   "outputs": [],
   "source": [
    "df_new.to_csv('train_100k.csv')"
   ]
  },
  {
   "cell_type": "code",
   "execution_count": null,
   "metadata": {},
   "outputs": [],
   "source": []
  }
 ],
 "metadata": {
  "kernelspec": {
   "display_name": "Python 3",
   "language": "python",
   "name": "python3"
  },
  "language_info": {
   "codemirror_mode": {
    "name": "ipython",
    "version": 3
   },
   "file_extension": ".py",
   "mimetype": "text/x-python",
   "name": "python",
   "nbconvert_exporter": "python",
   "pygments_lexer": "ipython3",
   "version": "3.6.8"
  },
  "toc": {
   "base_numbering": 1,
   "nav_menu": {},
   "number_sections": true,
   "sideBar": true,
   "skip_h1_title": false,
   "title_cell": "Table of Contents",
   "title_sidebar": "Contents",
   "toc_cell": false,
   "toc_position": {},
   "toc_section_display": true,
   "toc_window_display": false
  }
 },
 "nbformat": 4,
 "nbformat_minor": 2
}
